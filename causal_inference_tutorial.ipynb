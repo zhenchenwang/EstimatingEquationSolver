{
 "cells": [
  {
   "cell_type": "markdown",
   "metadata": {},
   "source": [
    "# Interactive Tutorial: Estimating Causal Effects\n",
    "\n",
    "Welcome to this interactive tutorial on causal inference! In this notebook, we will walk through a practical example to understand how to estimate the causal effect of a treatment on an outcome while dealing with common pitfalls like **confounding** and **collider bias**.\n",
    "\n",
    "We will replicate the analysis from `generate_report.py`, but with more detailed explanations at each step."
   ]
  },
  {
   "cell_type": "markdown",
   "metadata": {},
   "source": [
    "## 1. Setup\n",
    "\n",
    "First, let's import the necessary Python libraries and functions from our project files. Make sure you have run `pip install numpy scipy scikit-learn pandas matplotlib statsmodels` in your environment."
   ]
  },
  {
   "cell_type": "code",
   "execution_count": null,
   "metadata": {},
   "outputs": [],
   "source": [
    "import numpy as np\n",
    "import pandas as pd\n",
    "import matplotlib.pyplot as plt\n",
    "from data.simulation import simulate_adr_data\n",
    "from causal_estimation import (\n",
    "    fit_propensity_score, \n",
    "    compute_ipw, \n",
    "    SemiMechanisticLogisticMSM, \n",
    "    EstimatingEquationSolver\n",
    ")\n",
    "\n",
    "print(\"Setup complete!\")"
   ]
  },
  {
   "cell_type": "markdown",
   "metadata": {},
   "source": [
    "## 2. Data Simulation\n",
    "\n",
    "We'll use a simulated dataset that mimics a real-world scenario where we want to assess the causal effect of a drug (`A`) on an adverse drug reaction (`Y`).\n",
    "\n",
    "The simulation includes:\n",
    "- **Confounders:** `L` (disease severity), `age`, `sex`, `comorbidities`.\n",
    "- **A Collider:** `hospitalized` (a variable affected by both the drug and the adverse reaction)."
   ]
  },
  {
   "cell_type": "code",
   "execution_count": null,
   "metadata": {},
   "outputs": [],
   "source": [
    "df = simulate_adr_data(n_patients=2000, seed=42)\n",
    "Y = df['Y'].values\n",
    "A = df['A'].values\n",
    "theta_true_adr = df['theta_true_adr'].iloc[0]\n",
    "\n",
    "print(f\"The true causal log(OR) for the adverse reaction is: {theta_true_adr:.4f}\")\n",
    "df.head()"
   ]
  },
  {
   "cell_type": "markdown",
   "metadata": {},
   "source": [
    "## 3. Scenario 1: Naive Estimation (Ignoring Confounders)\n",
    "\n",
    "Let's start with the most basic approach: ignoring all other variables and comparing the outcome between the treated and untreated groups. This is often called a \"naive\" analysis.\n",
    "\n",
    "As explained in the `CONCEPTUAL_GUIDE.md`, this approach is likely to be biased by confounding."
   ]
  },
  {
   "cell_type": "code",
   "execution_count": null,
   "metadata": {},
   "outputs": [],
   "source": [
    "naive_model = SemiMechanisticLogisticMSM(Y, A)\n",
    "naive_solver = EstimatingEquationSolver(naive_model)\n",
    "theta_naive, _ = naive_solver.solve([-1, 0.5])\n",
    "ci_low_naive, ci_high_naive = naive_solver.confint(theta_naive)\n",
    "\n",
    "print(f\"Naive causal log(OR) estimate: {theta_naive[1]:.4f}\")\n",
    "print(f\"95% CI: [{ci_low_naive[1]:.4f}, {ci_high_naive[1]:.4f}]\")\n",
    "print(f\"True effect: {theta_true_adr:.4f}\")"
   ]
  },
  {
   "cell_type": "markdown",
   "metadata": {},
   "source": [
    "**Observation:** The naive estimate is significantly higher than the true effect. This is because sicker patients are more likely to get the drug, and also more likely to have an adverse reaction. The estimate is biased."
   ]
  },
  {
   "cell_type": "markdown",
   "metadata": {},
   "source": [
    "## 4. Scenario 2: IPW with Collider Adjustment (Inducing Bias)\n",
    "\n",
    "Now, let's try to adjust for other variables. A common mistake is to include any variable that is associated with the outcome. Here, we will include the **collider** (`hospitalized`) in our propensity score model.\n",
    "\n",
    "As we learned, adjusting for a collider can *induce* bias."
   ]
  },
  {
   "cell_type": "code",
   "execution_count": null,
   "metadata": {},
   "outputs": [],
   "source": [
    "confounders_and_collider = df[['L', 'age', 'sex', 'comorbidities', 'hospitalized']].values\n",
    "ps_model_collider = fit_propensity_score(confounders_and_collider, A)\n",
    "ps_collider = ps_model_collider.predict_proba(confounders_and_collider)[:, 1]\n",
    "weights_collider = compute_ipw(A, ps_collider)\n",
    "\n",
    "ipw_model_collider = SemiMechanisticLogisticMSM(Y, A, weights=weights_collider)\n",
    "ipw_solver_collider = EstimatingEquationSolver(ipw_model_collider)\n",
    "theta_ipw_collider, _ = ipw_solver_collider.solve([-1, 0.5])\n",
    "ci_low_collider, ci_high_collider = ipw_solver_collider.confint(theta_ipw_collider)\n",
    "\n",
    "print(f\"IPW estimate adjusting for collider: {theta_ipw_collider[1]:.4f}\")\n",
    "print(f\"95% CI: [{ci_low_collider[1]:.4f}, {ci_high_collider[1]:.4f}]\")\n",
    "print(f\"True effect: {theta_true_adr:.4f}\")"
   ]
  },
  {
   "cell_type": "markdown",
   "metadata": {},
   "source": [
    "**Observation:** This estimate is also biased, this time underestimating the true effect. By adjusting for the collider `hospitalized`, we created a spurious correlation between the drug and the outcome."
   ]
  },
  {
   "cell_type": "markdown",
   "metadata": {},
   "source": [
    "## 5. Scenario 3: Correct IPW (Adjusting for Confounders Only)\n",
    "\n",
    "Finally, let's do it the right way. We will use Inverse Probability Weighting (IPW) to adjust for the **confounders only**, and we will exclude the collider."
   ]
  },
  {
   "cell_type": "code",
   "execution_count": null,
   "metadata": {},
   "outputs": [],
   "source": [
    "confounders_only = df[['L', 'age', 'sex', 'comorbidities']].values\n",
    "ps_model_correct = fit_propensity_score(confounders_only, A)\n",
    "ps_correct = ps_model_correct.predict_proba(confounders_only)[:, 1]\n",
    "weights_correct = compute_ipw(A, ps_correct)\n",
    "\n",
    "ipw_model_correct = SemiMechanisticLogisticMSM(Y, A, weights=weights_correct)\n",
    "ipw_solver_correct = EstimatingEquationSolver(ipw_model_correct)\n",
    "theta_ipw_correct, _ = ipw_solver_correct.solve([-1, 0.5])\n",
    "ci_low_correct, ci_high_correct = ipw_solver_correct.confint(theta_ipw_correct)\n",
    "\n",
    "print(f\"Correct IPW estimate: {theta_ipw_correct[1]:.4f}\")\n",
    "print(f\"95% CI: [{ci_low_correct[1]:.4f}, {ci_high_correct[1]:.4f}]\")\n",
    "print(f\"True effect: {theta_true_adr:.4f}\")"
   ]
  },
  {
   "cell_type": "markdown",
   "metadata": {},
   "source": [
    "**Observation:** Success! This estimate is very close to the true causal effect. By correctly specifying our causal model (adjusting for confounders, not colliders), we were able to get an unbiased estimate."
   ]
  },
  {
   "cell_type": "markdown",
   "metadata": {},
   "source": [
    "## Conclusion\n",
    "\n",
    "This tutorial demonstrated that:\n",
    "1.  Ignoring confounders leads to biased estimates.\n",
    "2.  Adjusting for colliders introduces bias.\n",
    "3.  Correctly specifying the causal model and using a method like IPW allows for accurate causal effect estimation.\n",
    "\n",
    "The key takeaway is that **your assumptions about the causal structure of the data are more important than the specific statistical method you use.**"
   ]
  }
 ],
 "metadata": {
  "kernelspec": {
   "display_name": "Python 3",
   "language": "python",
   "name": "python3"
  },
  "language_info": {
   "codemirror_mode": {
    "name": "ipython",
    "version": 3
   },
   "file_extension": ".py",
   "mimetype": "text/x-python",
   "name": "python",
   "nbconvert_exporter": "python",
   "pygments_lexer": "ipython3",
   "version": "3.10.9"
  }
 },
 "nbformat": 4,
 "nbformat_minor": 4
}